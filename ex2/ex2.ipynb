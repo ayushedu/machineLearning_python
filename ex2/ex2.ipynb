{
 "cells": [
  {
   "cell_type": "markdown",
   "metadata": {},
   "source": [
    "# 1 Logistic Regression"
   ]
  },
  {
   "cell_type": "code",
   "execution_count": 66,
   "metadata": {
    "collapsed": false
   },
   "outputs": [],
   "source": [
    "import numpy as np\n",
    "import matplotlib.pyplot as plt"
   ]
  },
  {
   "cell_type": "code",
   "execution_count": 67,
   "metadata": {
    "collapsed": false
   },
   "outputs": [],
   "source": [
    "df = np.loadtxt(\"ex2data1.txt\", delimiter=\",\")"
   ]
  },
  {
   "cell_type": "code",
   "execution_count": 68,
   "metadata": {
    "collapsed": false
   },
   "outputs": [
    {
     "data": {
      "text/plain": [
       "((100, 3), (100, 1))"
      ]
     },
     "execution_count": 68,
     "metadata": {},
     "output_type": "execute_result"
    }
   ],
   "source": [
    "X = df[:,:2]\n",
    "# Add one col to X_norm\n",
    "X = np.hstack((np.ones([X.shape[0],1]), X))\n",
    "y = df[:,2]\n",
    "y.shape = (y.size,1)\n",
    "X.shape, y.shape"
   ]
  },
  {
   "cell_type": "code",
   "execution_count": 198,
   "metadata": {
    "collapsed": false
   },
   "outputs": [
    {
     "data": {
      "text/plain": [
       "(3, 1)"
      ]
     },
     "execution_count": 198,
     "metadata": {},
     "output_type": "execute_result"
    }
   ],
   "source": [
    "initial_theta = np.zeros((X.shape[1], 1))\n",
    "initial_theta.shape"
   ]
  },
  {
   "cell_type": "markdown",
   "metadata": {},
   "source": [
    "## 1.1 Visualizing Data"
   ]
  },
  {
   "cell_type": "code",
   "execution_count": 70,
   "metadata": {
    "collapsed": false
   },
   "outputs": [
    {
     "data": {
      "text/plain": [
       "[<matplotlib.lines.Line2D at 0x10629fa50>]"
      ]
     },
     "execution_count": 70,
     "metadata": {},
     "output_type": "execute_result"
    },
    {
     "data": {
      "image/png": "[encoded data removed]",
      "text/plain": [
       "<matplotlib.figure.Figure at 0x1062eaed0>"
      ]
     },
     "metadata": {},
     "output_type": "display_data"
    }
   ],
   "source": [
    "%matplotlib inline\n",
    "plt.plot(df[:,0][df[:,2] == 1],df[:,1][df[:,2] == 1], \"b+\", ms=7)\n",
    "plt.plot(df[:,0][df[:,2] == 0],df[:,1][df[:,2] == 0], \"yo\",ms=7)"
   ]
  },
  {
   "cell_type": "markdown",
   "metadata": {},
   "source": [
    "## 1.2 Implementation"
   ]
  },
  {
   "cell_type": "markdown",
   "metadata": {},
   "source": [
    "### 1.2.1 Warmup exercise: sigmoid function"
   ]
  },
  {
   "cell_type": "code",
   "execution_count": 71,
   "metadata": {
    "collapsed": true
   },
   "outputs": [],
   "source": [
    "def sigmoid(z):\n",
    "    # Logistic regression func, returns probability\n",
    "    return 1/(1+np.exp(-z))"
   ]
  },
  {
   "cell_type": "code",
   "execution_count": 72,
   "metadata": {
    "collapsed": false
   },
   "outputs": [
    {
     "name": "stdout",
     "output_type": "stream",
     "text": [
      "0.5\n",
      "[ 0.5         0.5         0.73105858  0.9999546 ]\n"
     ]
    }
   ],
   "source": [
    "print(sigmoid(0))\n",
    "print(sigmoid(np.array([0,0,1,10])))"
   ]
  },
  {
   "cell_type": "markdown",
   "metadata": {},
   "source": [
    "### 1.2.2 Cost function and gradient"
   ]
  },
  {
   "cell_type": "code",
   "execution_count": 229,
   "metadata": {
    "collapsed": false
   },
   "outputs": [],
   "source": [
    "def decorated_costFunction(theta_arg):\n",
    "    return costFunction(theta_arg, X, y)\n",
    "\n",
    "\n",
    "\n",
    "def costFunction(theta_arg, X, y):\n",
    "    J = 0\n",
    "    m = y.size\n",
    "    grad = np.zeros((theta_arg.size,1))\n",
    "    \n",
    "    h = sigmoid(X.dot(theta_arg))\n",
    "    h.shape = (h.size,1)\n",
    "    \n",
    "    J = (-1.0/m) * sum( y.T.dot(np.log(h)) + (1-y.T).dot(np.log(1-h)) )\n",
    "    #grad = np.zeros(3)#(1.0/m) * sum((h-y).T.dot(X))\n",
    "    \n",
    "    # Fminunc expects single value\n",
    "    return J#, grad.T.flatten()"
   ]
  },
  {
   "cell_type": "code",
   "execution_count": 125,
   "metadata": {
    "collapsed": false
   },
   "outputs": [
    {
     "data": {
      "text/plain": [
       "100"
      ]
     },
     "execution_count": 125,
     "metadata": {},
     "output_type": "execute_result"
    }
   ],
   "source": []
  },
  {
   "cell_type": "code",
   "execution_count": 230,
   "metadata": {
    "collapsed": false
   },
   "outputs": [
    {
     "name": "stdout",
     "output_type": "stream",
     "text": [
      "('cost at initial theta 0s', array([ 0.69314718]))\n"
     ]
    }
   ],
   "source": [
    "cost = costFunction(initial_theta, X, y)\n",
    "print(\"cost at initial theta 0s\", cost)\n",
    "#print(\"grad at initial theta 0s\", grad)"
   ]
  },
  {
   "cell_type": "markdown",
   "metadata": {},
   "source": [
    "### 1.2.3 Learning parameters using fminunc"
   ]
  },
  {
   "cell_type": "code",
   "execution_count": 257,
   "metadata": {
    "collapsed": false
   },
   "outputs": [
    {
     "name": "stdout",
     "output_type": "stream",
     "text": [
      "Optimization terminated successfully.\n",
      "         Current function value: 0.203498\n",
      "         Iterations: 157\n",
      "         Function evaluations: 287\n",
      "('min values: ', array([-25.16130062,   0.20623142,   0.20147143]))\n"
     ]
    }
   ],
   "source": [
    "# Minimize using scipy fmin_bfgs\n",
    "import scipy.optimize as opt\n",
    "\n",
    "f_theta = opt.fmin(decorated_costFunction, initial_theta, maxiter=400)\n",
    "print(\"min values: \",f_theta)"
   ]
  },
  {
   "cell_type": "code",
   "execution_count": 248,
   "metadata": {
    "collapsed": false
   },
   "outputs": [
    {
     "name": "stdout",
     "output_type": "stream",
     "text": [
      "('cost with optimized theta should be about .203. Result:', array([ 0.2034977]))\n"
     ]
    }
   ],
   "source": [
    "print (\"cost with optimized theta should be about .203. Result:\", costFunction(f_theta, X,y))"
   ]
  },
  {
   "cell_type": "code",
   "execution_count": 202,
   "metadata": {
    "collapsed": false
   },
   "outputs": [
    {
     "data": {
      "text/plain": [
       "[<matplotlib.lines.Line2D at 0x1074e8210>]"
      ]
     },
     "execution_count": 202,
     "metadata": {},
     "output_type": "execute_result"
    },
    {
     "data": {
      "image/png": "[encoded data removed]",
      "text/plain": [
       "<matplotlib.figure.Figure at 0x10706d110>"
      ]
     },
     "metadata": {},
     "output_type": "display_data"
    }
   ],
   "source": [
    "%matplotlib inline\n",
    "plt.plot(df[:,0][df[:,2] == 1],df[:,1][df[:,2] == 1], \"b+\", ms=7)\n",
    "plt.plot(df[:,0][df[:,2] == 0],df[:,1][df[:,2] == 0], \"yo\",ms=7)\n",
    "# Todo: Add decisiondecision boundary in below plot\n"
   ]
  },
  {
   "cell_type": "markdown",
   "metadata": {},
   "source": [
    "### 1.2.4 Evaluating logistic regression"
   ]
  },
  {
   "cell_type": "code",
   "execution_count": 266,
   "metadata": {
    "collapsed": false
   },
   "outputs": [
    {
     "name": "stdout",
     "output_type": "stream",
     "text": [
      "('Probability for exam1 45 and exam2 85 should be .776. Result:', array([ 0.77629159]))\n"
     ]
    }
   ],
   "source": [
    "print(\"Probability for exam1 45 and exam2 85 should be .776. Result:\",sigmoid(f_theta[0] + 45*f_theta[1] + 85*f_theta[2]))"
   ]
  },
  {
   "cell_type": "code",
   "execution_count": 280,
   "metadata": {
    "collapsed": false
   },
   "outputs": [
    {
     "name": "stdout",
     "output_type": "stream",
     "text": [
      "('Train accuracy in %:', 89.0)\n"
     ]
    }
   ],
   "source": [
    "def predict(theta, X):\n",
    "    theta.shape = (theta.size, 1)\n",
    "    return np.round(sigmoid(X.dot(theta)))\n",
    "\n",
    "p = predict(f_theta, X)\n",
    "\n",
    "print(\"Train accuracy in %:\", np.mean(p==y)*100)"
   ]
  },
  {
   "cell_type": "markdown",
   "metadata": {},
   "source": [
    "# 2 Regularized logistic regression"
   ]
  },
  {
   "cell_type": "code",
   "execution_count": 293,
   "metadata": {
    "collapsed": false
   },
   "outputs": [
    {
     "name": "stdout",
     "output_type": "stream",
     "text": [
      "((118, 3), (118,))\n"
     ]
    }
   ],
   "source": [
    "data = np.loadtxt(\"ex2data2.txt\", delimiter=\",\")\n",
    "X = data[:,:2]\n",
    "y = data[:,2]\n",
    "\n",
    "# Add one col to X\n",
    "X = np.hstack((np.ones([X.shape[0],1]), X))\n",
    "\n",
    "print(X.shape, y.shape)"
   ]
  },
  {
   "cell_type": "markdown",
   "metadata": {},
   "source": [
    "## 2.1 Visualizing data"
   ]
  },
  {
   "cell_type": "code",
   "execution_count": 298,
   "metadata": {
    "collapsed": false
   },
   "outputs": [
    {
     "data": {
      "image/png": "[encoded data removed]",
      "text/plain": [
       "<matplotlib.figure.Figure at 0x107142f50>"
      ]
     },
     "metadata": {},
     "output_type": "display_data"
    }
   ],
   "source": [
    "plt.plot(data[:,0][ data[:,2] == 1 ], data[:,1][ data[:,2] == 1 ], \"b+\", ms=7)\n",
    "plt.plot(data[:,0][ data[:,2] == 0 ], data[:,1][ data[:,2] == 0 ], \"yo\",ms=7)\n",
    "plt.legend = [\"X\",\"y\"]\n",
    "plt.show()"
   ]
  },
  {
   "cell_type": "markdown",
   "metadata": {},
   "source": [
    "## 2.2 Feature Mapping"
   ]
  },
  {
   "cell_type": "code",
   "execution_count": 311,
   "metadata": {
    "collapsed": true
   },
   "outputs": [],
   "source": [
    "def map_feature(X1, X2):\n",
    "    # Map features to all polynomial terma\n",
    "    degree = 6\n",
    "    \n",
    "    out = np.ones(X1.shape[0])\n",
    "    \n",
    "    for i in range(1,degree+1):\n",
    "        for j in range(i+1):\n",
    "            out[:,\n",
    "            \n",
    "        "
   ]
  },
  {
   "cell_type": "code",
   "execution_count": null,
   "metadata": {
    "collapsed": false
   },
   "outputs": [],
   "source": []
  }
 ],
 "metadata": {
  "kernelspec": {
   "display_name": "Python 2",
   "language": "python",
   "name": "python2"
  },
  "language_info": {
   "codemirror_mode": {
    "name": "ipython",
    "version": 2
   },
   "file_extension": ".py",
   "mimetype": "text/x-python",
   "name": "python",
   "nbconvert_exporter": "python",
   "pygments_lexer": "ipython2",
   "version": "2.7.9"
  }
 },
 "nbformat": 4,
 "nbformat_minor": 0
}
