{
 "cells": [
  {
   "cell_type": "code",
   "execution_count": 1,
   "metadata": {
    "collapsed": false
   },
   "outputs": [],
   "source": [
    "import scipy.io as sio\n",
    "import matplotlib.pyplot as plt\n",
    "import numpy as np\n",
    "import pandas as pd\n",
    "import scipy.optimize as opt"
   ]
  },
  {
   "cell_type": "markdown",
   "metadata": {},
   "source": [
    "# 1 Multiclass classification"
   ]
  },
  {
   "cell_type": "markdown",
   "metadata": {},
   "source": [
    "## 1.1. Dataset"
   ]
  },
  {
   "cell_type": "code",
   "execution_count": 11,
   "metadata": {
    "collapsed": false
   },
   "outputs": [
    {
     "name": "stdout",
     "output_type": "stream",
     "text": [
      "('X shape:', (5000, 400))\n",
      "('y shape:', (5000, 1))\n"
     ]
    }
   ],
   "source": [
    "matdata = sio.loadmat(\"ex3data1.mat\", struct_as_record = False)\n",
    "\n",
    "global y\n",
    "global X\n",
    "global y_one\n",
    "global lambda_\n",
    "\n",
    "lambda_ = 0\n",
    "\n",
    "X = matdata['X'] \n",
    "y = matdata['y']\n",
    "\n",
    "print(\"X shape:\",X.shape)\n",
    "print(\"y shape:\",y.shape)"
   ]
  },
  {
   "cell_type": "markdown",
   "metadata": {},
   "source": [
    "## 1.2 Visualizing the data"
   ]
  },
  {
   "cell_type": "code",
   "execution_count": 3,
   "metadata": {
    "collapsed": false
   },
   "outputs": [
    {
     "name": "stdout",
     "output_type": "stream",
     "text": [
      "Labels:\n",
      "[[ 10.  10.  10.  10.  10.]\n",
      " [  1.   2.  10.  10.  10.]\n",
      " [  3.  10.   3.  10.   4.]\n",
      " [ 10.  10.  10.   3.   3.]\n",
      " [  5.   2.   6.  10.   5.]]\n"
     ]
    },
    {
     "data": {
      "image/png": "[encoded data removed]",
      "text/plain": [
       "<matplotlib.figure.Figure at 0x1077d0950>"
      ]
     },
     "metadata": {},
     "output_type": "display_data"
    }
   ],
   "source": [
    "%matplotlib inline\n",
    "fig = plt.figure()\n",
    "y_labels = np.zeros((25))\n",
    "for i in range(1,26):\n",
    "    idx = i*np.random.randint(1,150) # Random image index\n",
    "    \n",
    "    # Show image\n",
    "    ax = fig.add_subplot(5,5,i)\n",
    "    ax.matshow(X[idx,:].reshape(20,20), interpolation='nearest', cmap=plt.cm.gray)\n",
    "    ax.set_xticklabels([])\n",
    "    ax.set_yticklabels([])\n",
    "    \n",
    "    y_labels[i-1] = (y[idx][0]) # Add label\n",
    "\n",
    "print(\"Labels:\")\n",
    "print(y_labels.reshape(5,5))"
   ]
  },
  {
   "cell_type": "markdown",
   "metadata": {},
   "source": [
    "## 1.3 Vectorizing logistic regression"
   ]
  },
  {
   "cell_type": "markdown",
   "metadata": {},
   "source": [
    "### 1.3.1, 1.3.2, 1.3.3 Vectorizing cost function and gradient"
   ]
  },
  {
   "cell_type": "code",
   "execution_count": 37,
   "metadata": {
    "collapsed": true
   },
   "outputs": [],
   "source": [
    "def sigmoid(z):\n",
    "    \"\"\"Logistic regression func, returns probability\"\"\"\n",
    "    return 1/(1+np.exp(-z))\n",
    "\n",
    "def decorated_costFunction(theta_arg):\n",
    "    global X, y_one, lambda_\n",
    "    return costFunction(theta_arg,X,y_one, lambda_)\n",
    "\n",
    "def costFunction(_theta, _X, _y, _lambda):\n",
    "    J = 0\n",
    "    m = y.size\n",
    "    grad = np.zeros((_theta.size,1))\n",
    "    h = sigmoid(np.matmul(_X,_theta))#sigmoid(_X.dot(_theta))\n",
    "    h.shape = (h.size,1)\n",
    "    \n",
    "    J = (-1.0/m) * sum( np.matmul(_y.T,np.log(h)) + np.matmul((1-_y.T),np.log(1-h)) )\n",
    "    \n",
    "    # Regularize the cost function - except theta[0]\n",
    "    J += (_lambda/(2.0*m)) * sum(np.power(_theta[1:],2))\n",
    "    \n",
    "    # Fminunc expects single value\n",
    "    return J\n"
   ]
  },
  {
   "cell_type": "markdown",
   "metadata": {
    "collapsed": false
   },
   "source": [
    "## 1.4 One vs All classification"
   ]
  },
  {
   "cell_type": "code",
   "execution_count": 30,
   "metadata": {
    "collapsed": false
   },
   "outputs": [],
   "source": [
    "X = np.hstack((np.ones([X.shape[0],1]), X)) # Add ones to X"
   ]
  },
  {
   "cell_type": "code",
   "execution_count": null,
   "metadata": {
    "collapsed": false
   },
   "outputs": [],
   "source": [
    "# Minimize using scipy fmin\n",
    "\n",
    "def oneVsAll(num_labels, y, lambda_):\n",
    "    \"\"\"\"trains LR classifier and return classifier params in matrix\"\"\"\n",
    "    global y_one,X\n",
    "    \n",
    "    m = X.shape[0]\n",
    "    n = X.shape[1]\n",
    "        \n",
    "    all_theta = np.zeros((num_labels, n)) # This has to be returned\n",
    "    \n",
    "    # Train classifier for each label\n",
    "    for i in range(num_labels):\n",
    "        y_one = (y == i+1)\n",
    "        all_theta[i,:] = opt.fmin_powell(decorated_costFunction, all_theta[i,:].flatten(), maxiter=100)\n",
    "        #print(opt.fmin_powell(decorated_costFunction, all_theta[i,:].flatten(), maxiter=4, retall=True))\n",
    "     \n",
    "    return all_theta\n",
    "\n",
    "all_theta = oneVsAll(10, y, lambda_)"
   ]
  },
  {
   "cell_type": "markdown",
   "metadata": {},
   "source": [
    "### 1.4.1 One Vs All Prediction"
   ]
  },
  {
   "cell_type": "code",
   "execution_count": 39,
   "metadata": {
    "collapsed": false
   },
   "outputs": [
    {
     "name": "stdout",
     "output_type": "stream",
     "text": [
      "('Accuracy:', 0)\n"
     ]
    }
   ],
   "source": [
    "def predictOneVsAll(all_theta, X):\n",
    "    \"\"\"Predict the label\"\"\"\n",
    "    m = X.shape[0]\n",
    "    num_labels = all_theta.shape[0]\n",
    "    \n",
    "    #return sigmoid(X.dot(all_theta.T))\n",
    "    return np.argmax(sigmoid(X.dot(all_theta.T)), axis=1)\n",
    "\n",
    "pred = predictOneVsAll(all_theta, X)\n",
    "print (\"Accuracy:\", sum(pred.flatten() == y.flatten()))"
   ]
  },
  {
   "cell_type": "code",
   "execution_count": 40,
   "metadata": {
    "collapsed": false
   },
   "outputs": [
    {
     "data": {
      "text/plain": [
       "array([0, 0, 0, ..., 0, 0, 0])"
      ]
     },
     "execution_count": 40,
     "metadata": {},
     "output_type": "execute_result"
    }
   ],
   "source": [
    "pred"
   ]
  }
 ],
 "metadata": {
  "kernelspec": {
   "display_name": "Python 2",
   "language": "python",
   "name": "python2"
  },
  "language_info": {
   "codemirror_mode": {
    "name": "ipython",
    "version": 2
   },
   "file_extension": ".py",
   "mimetype": "text/x-python",
   "name": "python",
   "nbconvert_exporter": "python",
   "pygments_lexer": "ipython2",
   "version": "2.7.9"
  }
 },
 "nbformat": 4,
 "nbformat_minor": 0
}
