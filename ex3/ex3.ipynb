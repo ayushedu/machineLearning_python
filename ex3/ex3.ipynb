{
 "cells": [
  {
   "cell_type": "code",
   "execution_count": 209,
   "metadata": {
    "collapsed": false
   },
   "outputs": [],
   "source": [
    "import scipy.io as sio\n",
    "import matplotlib.pyplot as plt\n",
    "import numpy as np"
   ]
  },
  {
   "cell_type": "markdown",
   "metadata": {},
   "source": [
    "# 1 Multiclass classification"
   ]
  },
  {
   "cell_type": "markdown",
   "metadata": {},
   "source": [
    "## 1.1. Dataset"
   ]
  },
  {
   "cell_type": "code",
   "execution_count": 154,
   "metadata": {
    "collapsed": false
   },
   "outputs": [
    {
     "name": "stdout",
     "output_type": "stream",
     "text": [
      "X shape: (5000, 400)\n",
      "y shape: (5000, 1)\n"
     ]
    }
   ],
   "source": [
    "matdata = sio.loadmat(\"ex3data1.mat\", struct_as_record = False)\n",
    "\n",
    "X = matdata['X'] \n",
    "y = matdata['y']\n",
    "\n",
    "print(\"X shape:\",X.shape)\n",
    "print(\"y shape:\",y.shape)"
   ]
  },
  {
   "cell_type": "markdown",
   "metadata": {},
   "source": [
    "## 1.2 Visualizing the data"
   ]
  },
  {
   "cell_type": "code",
   "execution_count": 204,
   "metadata": {
    "collapsed": false
   },
   "outputs": [
    {
     "name": "stdout",
     "output_type": "stream",
     "text": [
      "Labels:\n",
      "[[ 10.  10.  10.   1.  10.]\n",
      " [ 10.  10.   1.  10.   2.]\n",
      " [ 10.  10.   3.  10.   4.]\n",
      " [  3.   2.   4.   1.   5.]\n",
      " [  1.   3.  10.   6.   7.]]\n"
     ]
    },
    {
     "data": {
      "image/png": "[encoded data removed]",
      "text/plain": [
       "<matplotlib.figure.Figure at 0x1231d0b8>"
      ]
     },
     "metadata": {},
     "output_type": "display_data"
    }
   ],
   "source": [
    "fig = plt.figure()\n",
    "y_labels = np.zeros((25))\n",
    "for i in range(1,26):\n",
    "    idx = i*np.random.randint(1,150) # Random image index\n",
    "    \n",
    "    # Show image\n",
    "    ax = fig.add_subplot(5,5,i)\n",
    "    ax.matshow(X[idx,:].reshape(20,20), interpolation='nearest', cmap=plt.cm.gray)\n",
    "    ax.set_xticklabels([])\n",
    "    ax.set_yticklabels([])\n",
    "    \n",
    "    y_labels[i-1] = (y[idx][0]) # Add label\n",
    "\n",
    "print(\"Labels:\")\n",
    "print(y_labels.reshape(5,5))"
   ]
  },
  {
   "cell_type": "markdown",
   "metadata": {},
   "source": [
    "## 1.3 Vectorizing logistic regression"
   ]
  },
  {
   "cell_type": "markdown",
   "metadata": {},
   "source": [
    "### 1.3.1 Vectorizing cost function"
   ]
  },
  {
   "cell_type": "code",
   "execution_count": 239,
   "metadata": {
    "collapsed": true
   },
   "outputs": [],
   "source": [
    "def sigmoid(z):\n",
    "    \"\"\"Logistic regression func, returns probability\"\"\"\n",
    "    return 1/(1+np.exp(-z))\n",
    "\n",
    "def lrCostFunction(theta,X,y,lamdba):\n",
    "    \"\"\"Unregularized cost function\"\"\"\n",
    "    J = 0\n",
    "    m = y.size\n",
    "    grad = np.zeros((theta_arg.size,1))\n",
    "    \n",
    "    h = sigmoid(X.dot(theta_arg))\n",
    "    h.shape = (h.size,1)\n",
    "    \n",
    "    J = (-1.0/m) * sum( y.T.dot(np.log(h)) + (1-y.T).dot(np.log(1-h)) )\n",
    "    #grad = np.zeros(3)#(1.0/m) * sum((h-y).T.dot(X))\n",
    "    \n",
    "    # Fminunc expects single value\n",
    "    return J#, grad.T.flatten()"
   ]
  },
  {
   "cell_type": "code",
   "execution_count": 238,
   "metadata": {
    "collapsed": false
   },
   "outputs": [],
   "source": []
  },
  {
   "cell_type": "code",
   "execution_count": null,
   "metadata": {
    "collapsed": true
   },
   "outputs": [],
   "source": []
  }
 ],
 "metadata": {
  "kernelspec": {
   "display_name": "Python 3",
   "language": "python",
   "name": "python3"
  },
  "language_info": {
   "codemirror_mode": {
    "name": "ipython",
    "version": 3
   },
   "file_extension": ".py",
   "mimetype": "text/x-python",
   "name": "python",
   "nbconvert_exporter": "python",
   "pygments_lexer": "ipython3",
   "version": "3.5.1"
  }
 },
 "nbformat": 4,
 "nbformat_minor": 0
}
