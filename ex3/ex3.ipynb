{
 "cells": [
  {
   "cell_type": "code",
   "execution_count": 1,
   "metadata": {
    "collapsed": false
   },
   "outputs": [],
   "source": [
    "import scipy.io as sio\n",
    "import matplotlib.pyplot as plt\n",
    "import numpy as np\n",
    "import pandas as pd"
   ]
  },
  {
   "cell_type": "markdown",
   "metadata": {},
   "source": [
    "# 1 Multiclass classification"
   ]
  },
  {
   "cell_type": "markdown",
   "metadata": {},
   "source": [
    "## 1.1. Dataset"
   ]
  },
  {
   "cell_type": "code",
   "execution_count": 2,
   "metadata": {
    "collapsed": false
   },
   "outputs": [
    {
     "name": "stdout",
     "output_type": "stream",
     "text": [
      "X shape: (5000, 400)\n",
      "y shape: (5000, 1)\n"
     ]
    }
   ],
   "source": [
    "matdata = sio.loadmat(\"ex3data1.mat\", struct_as_record = False)\n",
    "\n",
    "global y\n",
    "global X\n",
    "global y_one\n",
    "global lambda_\n",
    "\n",
    "X = matdata['X'] \n",
    "y = matdata['y']\n",
    "\n",
    "print(\"X shape:\",X.shape)\n",
    "print(\"y shape:\",y.shape)"
   ]
  },
  {
   "cell_type": "markdown",
   "metadata": {},
   "source": [
    "## 1.2 Visualizing the data"
   ]
  },
  {
   "cell_type": "code",
   "execution_count": 3,
   "metadata": {
    "collapsed": false
   },
   "outputs": [
    {
     "name": "stdout",
     "output_type": "stream",
     "text": [
      "Labels:\n",
      "[[ 10.  10.  10.  10.   1.]\n",
      " [ 10.   1.  10.   2.  10.]\n",
      " [  2.   3.   2.   1.   1.]\n",
      " [ 10.   4.  10.   2.  10.]\n",
      " [  1.   6.   5.   2.   2.]]\n"
     ]
    },
    {
     "data": {
      "image/png": "[encoded data removed]",
      "text/plain": [
       "<matplotlib.figure.Figure at 0x87bcb70>"
      ]
     },
     "metadata": {},
     "output_type": "display_data"
    }
   ],
   "source": [
    "%matplotlib inline\n",
    "fig = plt.figure()\n",
    "y_labels = np.zeros((25))\n",
    "for i in range(1,26):\n",
    "    idx = i*np.random.randint(1,150) # Random image index\n",
    "    \n",
    "    # Show image\n",
    "    ax = fig.add_subplot(5,5,i)\n",
    "    ax.matshow(X[idx,:].reshape(20,20), interpolation='nearest', cmap=plt.cm.gray)\n",
    "    ax.set_xticklabels([])\n",
    "    ax.set_yticklabels([])\n",
    "    \n",
    "    y_labels[i-1] = (y[idx][0]) # Add label\n",
    "\n",
    "print(\"Labels:\")\n",
    "print(y_labels.reshape(5,5))"
   ]
  },
  {
   "cell_type": "markdown",
   "metadata": {},
   "source": [
    "## 1.3 Vectorizing logistic regression"
   ]
  },
  {
   "cell_type": "markdown",
   "metadata": {},
   "source": [
    "### 1.3.1, 1.3.2, 1.3.3 Vectorizing cost function and gradient"
   ]
  },
  {
   "cell_type": "code",
   "execution_count": 4,
   "metadata": {
    "collapsed": true
   },
   "outputs": [],
   "source": [
    "def sigmoid(z):\n",
    "    \"\"\"Logistic regression func, returns probability\"\"\"\n",
    "    return 1/(1+np.exp(-z))\n",
    "\n",
    "def decorated_costFunction(theta_arg):\n",
    "    global X, y_one, lambda_\n",
    "    return costFunction(theta_arg,X,y_one, lambda_)\n",
    "\n",
    "def costFunction(_theta, _X, _y, _lambda):\n",
    "    J = 0\n",
    "    m = y.size\n",
    "    grad = np.zeros((_theta.size,1))\n",
    "    h = sigmoid(_X.dot(_theta))\n",
    "    h.shape = (h.size,1)\n",
    "    \n",
    "    J = (-1.0/m) * sum( _y.T.dot(np.log(h)) + (1-_y.T).dot(np.log(1-h)) )\n",
    "    \n",
    "    # Regularize the cost function - except theta[0]\n",
    "    J += (_lambda/(2.0*m)) * sum(np.power(_theta[1:],2))\n",
    "    \n",
    "    # Fminunc expects single value\n",
    "    return J\n"
   ]
  },
  {
   "cell_type": "markdown",
   "metadata": {
    "collapsed": false
   },
   "source": [
    "## 1.4 One vs All classification"
   ]
  },
  {
   "cell_type": "code",
   "execution_count": 5,
   "metadata": {
    "collapsed": true
   },
   "outputs": [],
   "source": [
    "# Add ones to X\n",
    "X = np.hstack((np.ones([X.shape[0],1]), X))"
   ]
  },
  {
   "cell_type": "code",
   "execution_count": 14,
   "metadata": {
    "collapsed": false
   },
   "outputs": [],
   "source": [
    "# Minimize using scipy fmin\n",
    "import scipy.optimize as opt\n",
    "\n",
    "\n",
    "def oneVsAll(num_labels, lambda_arg):\n",
    "    \"\"\"\"trains LR classifier and return classifier params in matrix\"\"\"\n",
    "    global X, y_one,lambda_\n",
    "    \n",
    "    m = X.shape[0]\n",
    "    n = X.shape[1]\n",
    "    \n",
    "    # This has to be returned\n",
    "    all_theta = np.zeros((num_labels, n))\n",
    "    \n",
    "    #print(\"m, n, X\",all_theta.shape, X.shape)\n",
    "    \n",
    "    # global var y_one\n",
    "    \n",
    "    lambda_ = lambda_arg\n",
    "    \n",
    "    # Train classifier for each label\n",
    "    for i in range(num_labels):\n",
    "        y_one = (y == i+1)\n",
    "    \n",
    "        #decorated_lrCostFunction(theta)\n",
    "        all_theta[i,:] = opt.fmin(decorated_costFunction, all_theta[i,:].flatten(), maxiter=400)\n",
    "        \n",
    "    return all_theta"
   ]
  },
  {
   "cell_type": "code",
   "execution_count": 15,
   "metadata": {
    "collapsed": false
   },
   "outputs": [
    {
     "name": "stdout",
     "output_type": "stream",
     "text": [
      "Warning: Maximum number of iterations has been exceeded.\n",
      "Warning: Maximum number of iterations has been exceeded.\n",
      "Warning: Maximum number of iterations has been exceeded.\n",
      "Warning: Maximum number of iterations has been exceeded.\n",
      "Warning: Maximum number of iterations has been exceeded.\n",
      "Warning: Maximum number of iterations has been exceeded.\n",
      "Warning: Maximum number of iterations has been exceeded.\n",
      "Warning: Maximum number of iterations has been exceeded.\n",
      "Warning: Maximum number of iterations has been exceeded.\n",
      "Warning: Maximum number of iterations has been exceeded.\n"
     ]
    },
    {
     "data": {
      "text/plain": [
       "array([[ -5.00000000e-04,   1.87032419e-06,   1.87032419e-06, ...,\n",
       "          1.87032419e-06,   1.87032419e-06,   1.87032419e-06],\n",
       "       [ -5.00000000e-04,   1.87032419e-06,   1.87032419e-06, ...,\n",
       "          1.87032419e-06,   1.87032419e-06,   1.87032419e-06],\n",
       "       [ -5.00000000e-04,   1.87032419e-06,   1.87032419e-06, ...,\n",
       "          1.87032419e-06,   1.87032419e-06,   1.87032419e-06],\n",
       "       ..., \n",
       "       [ -5.00000000e-04,   1.87032419e-06,   1.87032419e-06, ...,\n",
       "          1.87032419e-06,   1.87032419e-06,   1.87032419e-06],\n",
       "       [ -5.00000000e-04,   1.87032419e-06,   1.87032419e-06, ...,\n",
       "          1.87032419e-06,   1.87032419e-06,   1.87032419e-06],\n",
       "       [ -5.00000000e-04,   1.87032419e-06,   1.87032419e-06, ...,\n",
       "          1.87032419e-06,   1.87032419e-06,   1.87032419e-06]])"
      ]
     },
     "execution_count": 15,
     "metadata": {},
     "output_type": "execute_result"
    }
   ],
   "source": [
    "oneVsAll(10,0)"
   ]
  }
 ],
 "metadata": {
  "kernelspec": {
   "display_name": "Python 3",
   "language": "python",
   "name": "python3"
  },
  "language_info": {
   "codemirror_mode": {
    "name": "ipython",
    "version": 3
   },
   "file_extension": ".py",
   "mimetype": "text/x-python",
   "name": "python",
   "nbconvert_exporter": "python",
   "pygments_lexer": "ipython3",
   "version": "3.5.1"
  }
 },
 "nbformat": 4,
 "nbformat_minor": 0
}
